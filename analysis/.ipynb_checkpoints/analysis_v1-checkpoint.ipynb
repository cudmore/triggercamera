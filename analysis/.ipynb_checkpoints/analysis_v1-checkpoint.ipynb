{
 "cells": [
  {
   "cell_type": "markdown",
   "metadata": {},
   "source": [
    "### Analysis v1\n",
    "\n",
    " - Load a .txt\n",
    " - Parse\n",
    "  - Take difference of seconds[i]-seconds[i-1]\n",
    " - Plot difference to give us interval between each frame\n",
    " "
   ]
  },
  {
   "cell_type": "code",
   "execution_count": 1,
   "metadata": {
    "collapsed": true
   },
   "outputs": [],
   "source": [
    "import pandas as pd\n",
    "import numpy as np\n",
    "import matplotlib.pyplot as plt\n",
    "%matplotlib inline"
   ]
  },
  {
   "cell_type": "code",
   "execution_count": 33,
   "metadata": {
    "collapsed": false
   },
   "outputs": [
    {
     "data": {
      "text/html": [
       "<div>\n",
       "<table border=\"1\" class=\"dataframe\">\n",
       "  <thead>\n",
       "    <tr style=\"text-align: right;\">\n",
       "      <th></th>\n",
       "      <th>seconds</th>\n",
       "      <th>frame</th>\n",
       "    </tr>\n",
       "  </thead>\n",
       "  <tbody>\n",
       "    <tr>\n",
       "      <th>20160520_074319</th>\n",
       "      <td>1.463745e+09</td>\n",
       "      <td>1</td>\n",
       "    </tr>\n",
       "    <tr>\n",
       "      <th>20160520_074319</th>\n",
       "      <td>1.463745e+09</td>\n",
       "      <td>2</td>\n",
       "    </tr>\n",
       "    <tr>\n",
       "      <th>20160520_074319</th>\n",
       "      <td>1.463745e+09</td>\n",
       "      <td>3</td>\n",
       "    </tr>\n",
       "    <tr>\n",
       "      <th>20160520_074319</th>\n",
       "      <td>1.463745e+09</td>\n",
       "      <td>4</td>\n",
       "    </tr>\n",
       "    <tr>\n",
       "      <th>20160520_074319</th>\n",
       "      <td>1.463745e+09</td>\n",
       "      <td>5</td>\n",
       "    </tr>\n",
       "  </tbody>\n",
       "</table>\n",
       "</div>"
      ],
      "text/plain": [
       "                      seconds  frame\n",
       "20160520_074319  1.463745e+09      1\n",
       "20160520_074319  1.463745e+09      2\n",
       "20160520_074319  1.463745e+09      3\n",
       "20160520_074319  1.463745e+09      4\n",
       "20160520_074319  1.463745e+09      5"
      ]
     },
     "execution_count": 33,
     "metadata": {},
     "output_type": "execute_result"
    }
   ],
   "source": [
    "# load\n",
    "filename = '/Volumes/pi60/Sites/triggercamera/analysis/20160520_074319_si.txt'\n",
    "df = pd.read_csv(filename)\n",
    "df[0:5]"
   ]
  },
  {
   "cell_type": "code",
   "execution_count": 38,
   "metadata": {
    "collapsed": false
   },
   "outputs": [
    {
     "data": {
      "text/plain": [
       "[<matplotlib.lines.Line2D at 0x10b1efb50>]"
      ]
     },
     "execution_count": 38,
     "metadata": {},
     "output_type": "execute_result"
    },
    {
     "data": {
      "image/png": "[encoded data removed]",
      "text/plain": [
       "<matplotlib.figure.Figure at 0x10a083750>"
      ]
     },
     "metadata": {},
     "output_type": "display_data"
    },
    {
     "data": {
      "image/png": "[encoded data removed]",
      "text/plain": [
       "<matplotlib.figure.Figure at 0x10b17da90>"
      ]
     },
     "metadata": {},
     "output_type": "display_data"
    }
   ],
   "source": [
    "# difference between frame seconds\n",
    "diff = np.diff(df['seconds'].astype('float'))\n",
    "\n",
    "\n",
    "# to do this i need to find index of long/short in diff\n",
    "# difference between frame numbers\n",
    "diffFrame = np.diff(df['frame'])\n",
    "\n",
    "plt.figure(1)\n",
    "\n",
    "plt.subplot(311)\n",
    "plt.plot(diff, 'ro-')\n",
    "\n",
    "plt.subplot(312)\n",
    "plt.plot(diff[50:100], 'ro-')\n",
    "\n",
    "plt.figure(2)\n",
    "\n",
    "plt.subplot(311)\n",
    "plt.plot(diffFrame, 'bo-')\n",
    "\n"
   ]
  },
  {
   "cell_type": "code",
   "execution_count": 35,
   "metadata": {
    "collapsed": false
   },
   "outputs": [
    {
     "name": "stdout",
     "output_type": "stream",
     "text": [
      "num short intervals is 1\n",
      "num long intervals is 61\n"
     ]
    }
   ],
   "source": [
    "# find not sequential frames\n",
    "\n",
    "#print 'frames > 0.03 sec)'\n",
    "#np.where( diff > 0.03 )\n",
    "#print 'frames < 0.03 sec)'\n",
    "frameInterval = 0.03\n",
    "\n",
    "oneMS = 0.001\n",
    "\n",
    "shortIntervals = np.where(diff < (frameInterval-oneMS))[0]\n",
    "longIntervals = np.where(diff > (frameInterval+oneMS))[0]\n",
    "\n",
    "print 'num short intervals is', len(shortIntervals)\n",
    "print 'num long intervals is', len(longIntervals)\n"
   ]
  },
  {
   "cell_type": "code",
   "execution_count": null,
   "metadata": {
    "collapsed": true
   },
   "outputs": [],
   "source": []
  }
 ],
 "metadata": {
  "kernelspec": {
   "display_name": "Python 2",
   "language": "python",
   "name": "python2"
  },
  "language_info": {
   "codemirror_mode": {
    "name": "ipython",
    "version": 2
   },
   "file_extension": ".py",
   "mimetype": "text/x-python",
   "name": "python",
   "nbconvert_exporter": "python",
   "pygments_lexer": "ipython2",
   "version": "2.7.10"
  }
 },
 "nbformat": 4,
 "nbformat_minor": 0
}
